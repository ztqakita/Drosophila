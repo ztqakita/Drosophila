{
 "cells": [
  {
   "cell_type": "code",
   "execution_count": 1,
   "metadata": {
    "collapsed": true
   },
   "outputs": [],
   "source": [
    "import numpy as np\n",
    "import pandas as pd"
   ]
  },
  {
   "cell_type": "code",
   "execution_count": 8,
   "outputs": [
    {
     "ename": "FileNotFoundError",
     "evalue": "[Errno 2] No such file or directory: 'Data/neurons.csv'",
     "output_type": "error",
     "traceback": [
      "\u001B[0;31m---------------------------------------------------------------------------\u001B[0m",
      "\u001B[0;31mFileNotFoundError\u001B[0m                         Traceback (most recent call last)",
      "Input \u001B[0;32mIn [8]\u001B[0m, in \u001B[0;36m<cell line: 1>\u001B[0;34m()\u001B[0m\n\u001B[0;32m----> 1\u001B[0m neuron_df \u001B[38;5;241m=\u001B[39m \u001B[43mpd\u001B[49m\u001B[38;5;241;43m.\u001B[39;49m\u001B[43mread_csv\u001B[49m\u001B[43m(\u001B[49m\u001B[38;5;124;43m'\u001B[39;49m\u001B[38;5;124;43mData/neurons.csv\u001B[39;49m\u001B[38;5;124;43m'\u001B[39;49m\u001B[43m)\u001B[49m\n\u001B[1;32m      2\u001B[0m connection_df \u001B[38;5;241m=\u001B[39m pd\u001B[38;5;241m.\u001B[39mread_csv(\u001B[38;5;124m'\u001B[39m\u001B[38;5;124mData/connections.csv\u001B[39m\u001B[38;5;124m'\u001B[39m)\n",
      "File \u001B[0;32m~/opt/anaconda3/envs/bdp/lib/python3.9/site-packages/pandas/util/_decorators.py:311\u001B[0m, in \u001B[0;36mdeprecate_nonkeyword_arguments.<locals>.decorate.<locals>.wrapper\u001B[0;34m(*args, **kwargs)\u001B[0m\n\u001B[1;32m    305\u001B[0m \u001B[38;5;28;01mif\u001B[39;00m \u001B[38;5;28mlen\u001B[39m(args) \u001B[38;5;241m>\u001B[39m num_allow_args:\n\u001B[1;32m    306\u001B[0m     warnings\u001B[38;5;241m.\u001B[39mwarn(\n\u001B[1;32m    307\u001B[0m         msg\u001B[38;5;241m.\u001B[39mformat(arguments\u001B[38;5;241m=\u001B[39marguments),\n\u001B[1;32m    308\u001B[0m         \u001B[38;5;167;01mFutureWarning\u001B[39;00m,\n\u001B[1;32m    309\u001B[0m         stacklevel\u001B[38;5;241m=\u001B[39mstacklevel,\n\u001B[1;32m    310\u001B[0m     )\n\u001B[0;32m--> 311\u001B[0m \u001B[38;5;28;01mreturn\u001B[39;00m \u001B[43mfunc\u001B[49m\u001B[43m(\u001B[49m\u001B[38;5;241;43m*\u001B[39;49m\u001B[43margs\u001B[49m\u001B[43m,\u001B[49m\u001B[43m \u001B[49m\u001B[38;5;241;43m*\u001B[39;49m\u001B[38;5;241;43m*\u001B[39;49m\u001B[43mkwargs\u001B[49m\u001B[43m)\u001B[49m\n",
      "File \u001B[0;32m~/opt/anaconda3/envs/bdp/lib/python3.9/site-packages/pandas/io/parsers/readers.py:680\u001B[0m, in \u001B[0;36mread_csv\u001B[0;34m(filepath_or_buffer, sep, delimiter, header, names, index_col, usecols, squeeze, prefix, mangle_dupe_cols, dtype, engine, converters, true_values, false_values, skipinitialspace, skiprows, skipfooter, nrows, na_values, keep_default_na, na_filter, verbose, skip_blank_lines, parse_dates, infer_datetime_format, keep_date_col, date_parser, dayfirst, cache_dates, iterator, chunksize, compression, thousands, decimal, lineterminator, quotechar, quoting, doublequote, escapechar, comment, encoding, encoding_errors, dialect, error_bad_lines, warn_bad_lines, on_bad_lines, delim_whitespace, low_memory, memory_map, float_precision, storage_options)\u001B[0m\n\u001B[1;32m    665\u001B[0m kwds_defaults \u001B[38;5;241m=\u001B[39m _refine_defaults_read(\n\u001B[1;32m    666\u001B[0m     dialect,\n\u001B[1;32m    667\u001B[0m     delimiter,\n\u001B[0;32m   (...)\u001B[0m\n\u001B[1;32m    676\u001B[0m     defaults\u001B[38;5;241m=\u001B[39m{\u001B[38;5;124m\"\u001B[39m\u001B[38;5;124mdelimiter\u001B[39m\u001B[38;5;124m\"\u001B[39m: \u001B[38;5;124m\"\u001B[39m\u001B[38;5;124m,\u001B[39m\u001B[38;5;124m\"\u001B[39m},\n\u001B[1;32m    677\u001B[0m )\n\u001B[1;32m    678\u001B[0m kwds\u001B[38;5;241m.\u001B[39mupdate(kwds_defaults)\n\u001B[0;32m--> 680\u001B[0m \u001B[38;5;28;01mreturn\u001B[39;00m \u001B[43m_read\u001B[49m\u001B[43m(\u001B[49m\u001B[43mfilepath_or_buffer\u001B[49m\u001B[43m,\u001B[49m\u001B[43m \u001B[49m\u001B[43mkwds\u001B[49m\u001B[43m)\u001B[49m\n",
      "File \u001B[0;32m~/opt/anaconda3/envs/bdp/lib/python3.9/site-packages/pandas/io/parsers/readers.py:575\u001B[0m, in \u001B[0;36m_read\u001B[0;34m(filepath_or_buffer, kwds)\u001B[0m\n\u001B[1;32m    572\u001B[0m _validate_names(kwds\u001B[38;5;241m.\u001B[39mget(\u001B[38;5;124m\"\u001B[39m\u001B[38;5;124mnames\u001B[39m\u001B[38;5;124m\"\u001B[39m, \u001B[38;5;28;01mNone\u001B[39;00m))\n\u001B[1;32m    574\u001B[0m \u001B[38;5;66;03m# Create the parser.\u001B[39;00m\n\u001B[0;32m--> 575\u001B[0m parser \u001B[38;5;241m=\u001B[39m \u001B[43mTextFileReader\u001B[49m\u001B[43m(\u001B[49m\u001B[43mfilepath_or_buffer\u001B[49m\u001B[43m,\u001B[49m\u001B[43m \u001B[49m\u001B[38;5;241;43m*\u001B[39;49m\u001B[38;5;241;43m*\u001B[39;49m\u001B[43mkwds\u001B[49m\u001B[43m)\u001B[49m\n\u001B[1;32m    577\u001B[0m \u001B[38;5;28;01mif\u001B[39;00m chunksize \u001B[38;5;129;01mor\u001B[39;00m iterator:\n\u001B[1;32m    578\u001B[0m     \u001B[38;5;28;01mreturn\u001B[39;00m parser\n",
      "File \u001B[0;32m~/opt/anaconda3/envs/bdp/lib/python3.9/site-packages/pandas/io/parsers/readers.py:934\u001B[0m, in \u001B[0;36mTextFileReader.__init__\u001B[0;34m(self, f, engine, **kwds)\u001B[0m\n\u001B[1;32m    931\u001B[0m     \u001B[38;5;28mself\u001B[39m\u001B[38;5;241m.\u001B[39moptions[\u001B[38;5;124m\"\u001B[39m\u001B[38;5;124mhas_index_names\u001B[39m\u001B[38;5;124m\"\u001B[39m] \u001B[38;5;241m=\u001B[39m kwds[\u001B[38;5;124m\"\u001B[39m\u001B[38;5;124mhas_index_names\u001B[39m\u001B[38;5;124m\"\u001B[39m]\n\u001B[1;32m    933\u001B[0m \u001B[38;5;28mself\u001B[39m\u001B[38;5;241m.\u001B[39mhandles: IOHandles \u001B[38;5;241m|\u001B[39m \u001B[38;5;28;01mNone\u001B[39;00m \u001B[38;5;241m=\u001B[39m \u001B[38;5;28;01mNone\u001B[39;00m\n\u001B[0;32m--> 934\u001B[0m \u001B[38;5;28mself\u001B[39m\u001B[38;5;241m.\u001B[39m_engine \u001B[38;5;241m=\u001B[39m \u001B[38;5;28;43mself\u001B[39;49m\u001B[38;5;241;43m.\u001B[39;49m\u001B[43m_make_engine\u001B[49m\u001B[43m(\u001B[49m\u001B[43mf\u001B[49m\u001B[43m,\u001B[49m\u001B[43m \u001B[49m\u001B[38;5;28;43mself\u001B[39;49m\u001B[38;5;241;43m.\u001B[39;49m\u001B[43mengine\u001B[49m\u001B[43m)\u001B[49m\n",
      "File \u001B[0;32m~/opt/anaconda3/envs/bdp/lib/python3.9/site-packages/pandas/io/parsers/readers.py:1218\u001B[0m, in \u001B[0;36mTextFileReader._make_engine\u001B[0;34m(self, f, engine)\u001B[0m\n\u001B[1;32m   1214\u001B[0m     mode \u001B[38;5;241m=\u001B[39m \u001B[38;5;124m\"\u001B[39m\u001B[38;5;124mrb\u001B[39m\u001B[38;5;124m\"\u001B[39m\n\u001B[1;32m   1215\u001B[0m \u001B[38;5;66;03m# error: No overload variant of \"get_handle\" matches argument types\u001B[39;00m\n\u001B[1;32m   1216\u001B[0m \u001B[38;5;66;03m# \"Union[str, PathLike[str], ReadCsvBuffer[bytes], ReadCsvBuffer[str]]\"\u001B[39;00m\n\u001B[1;32m   1217\u001B[0m \u001B[38;5;66;03m# , \"str\", \"bool\", \"Any\", \"Any\", \"Any\", \"Any\", \"Any\"\u001B[39;00m\n\u001B[0;32m-> 1218\u001B[0m \u001B[38;5;28mself\u001B[39m\u001B[38;5;241m.\u001B[39mhandles \u001B[38;5;241m=\u001B[39m \u001B[43mget_handle\u001B[49m\u001B[43m(\u001B[49m\u001B[43m  \u001B[49m\u001B[38;5;66;43;03m# type: ignore[call-overload]\u001B[39;49;00m\n\u001B[1;32m   1219\u001B[0m \u001B[43m    \u001B[49m\u001B[43mf\u001B[49m\u001B[43m,\u001B[49m\n\u001B[1;32m   1220\u001B[0m \u001B[43m    \u001B[49m\u001B[43mmode\u001B[49m\u001B[43m,\u001B[49m\n\u001B[1;32m   1221\u001B[0m \u001B[43m    \u001B[49m\u001B[43mencoding\u001B[49m\u001B[38;5;241;43m=\u001B[39;49m\u001B[38;5;28;43mself\u001B[39;49m\u001B[38;5;241;43m.\u001B[39;49m\u001B[43moptions\u001B[49m\u001B[38;5;241;43m.\u001B[39;49m\u001B[43mget\u001B[49m\u001B[43m(\u001B[49m\u001B[38;5;124;43m\"\u001B[39;49m\u001B[38;5;124;43mencoding\u001B[39;49m\u001B[38;5;124;43m\"\u001B[39;49m\u001B[43m,\u001B[49m\u001B[43m \u001B[49m\u001B[38;5;28;43;01mNone\u001B[39;49;00m\u001B[43m)\u001B[49m\u001B[43m,\u001B[49m\n\u001B[1;32m   1222\u001B[0m \u001B[43m    \u001B[49m\u001B[43mcompression\u001B[49m\u001B[38;5;241;43m=\u001B[39;49m\u001B[38;5;28;43mself\u001B[39;49m\u001B[38;5;241;43m.\u001B[39;49m\u001B[43moptions\u001B[49m\u001B[38;5;241;43m.\u001B[39;49m\u001B[43mget\u001B[49m\u001B[43m(\u001B[49m\u001B[38;5;124;43m\"\u001B[39;49m\u001B[38;5;124;43mcompression\u001B[39;49m\u001B[38;5;124;43m\"\u001B[39;49m\u001B[43m,\u001B[49m\u001B[43m \u001B[49m\u001B[38;5;28;43;01mNone\u001B[39;49;00m\u001B[43m)\u001B[49m\u001B[43m,\u001B[49m\n\u001B[1;32m   1223\u001B[0m \u001B[43m    \u001B[49m\u001B[43mmemory_map\u001B[49m\u001B[38;5;241;43m=\u001B[39;49m\u001B[38;5;28;43mself\u001B[39;49m\u001B[38;5;241;43m.\u001B[39;49m\u001B[43moptions\u001B[49m\u001B[38;5;241;43m.\u001B[39;49m\u001B[43mget\u001B[49m\u001B[43m(\u001B[49m\u001B[38;5;124;43m\"\u001B[39;49m\u001B[38;5;124;43mmemory_map\u001B[39;49m\u001B[38;5;124;43m\"\u001B[39;49m\u001B[43m,\u001B[49m\u001B[43m \u001B[49m\u001B[38;5;28;43;01mFalse\u001B[39;49;00m\u001B[43m)\u001B[49m\u001B[43m,\u001B[49m\n\u001B[1;32m   1224\u001B[0m \u001B[43m    \u001B[49m\u001B[43mis_text\u001B[49m\u001B[38;5;241;43m=\u001B[39;49m\u001B[43mis_text\u001B[49m\u001B[43m,\u001B[49m\n\u001B[1;32m   1225\u001B[0m \u001B[43m    \u001B[49m\u001B[43merrors\u001B[49m\u001B[38;5;241;43m=\u001B[39;49m\u001B[38;5;28;43mself\u001B[39;49m\u001B[38;5;241;43m.\u001B[39;49m\u001B[43moptions\u001B[49m\u001B[38;5;241;43m.\u001B[39;49m\u001B[43mget\u001B[49m\u001B[43m(\u001B[49m\u001B[38;5;124;43m\"\u001B[39;49m\u001B[38;5;124;43mencoding_errors\u001B[39;49m\u001B[38;5;124;43m\"\u001B[39;49m\u001B[43m,\u001B[49m\u001B[43m \u001B[49m\u001B[38;5;124;43m\"\u001B[39;49m\u001B[38;5;124;43mstrict\u001B[39;49m\u001B[38;5;124;43m\"\u001B[39;49m\u001B[43m)\u001B[49m\u001B[43m,\u001B[49m\n\u001B[1;32m   1226\u001B[0m \u001B[43m    \u001B[49m\u001B[43mstorage_options\u001B[49m\u001B[38;5;241;43m=\u001B[39;49m\u001B[38;5;28;43mself\u001B[39;49m\u001B[38;5;241;43m.\u001B[39;49m\u001B[43moptions\u001B[49m\u001B[38;5;241;43m.\u001B[39;49m\u001B[43mget\u001B[49m\u001B[43m(\u001B[49m\u001B[38;5;124;43m\"\u001B[39;49m\u001B[38;5;124;43mstorage_options\u001B[39;49m\u001B[38;5;124;43m\"\u001B[39;49m\u001B[43m,\u001B[49m\u001B[43m \u001B[49m\u001B[38;5;28;43;01mNone\u001B[39;49;00m\u001B[43m)\u001B[49m\u001B[43m,\u001B[49m\n\u001B[1;32m   1227\u001B[0m \u001B[43m\u001B[49m\u001B[43m)\u001B[49m\n\u001B[1;32m   1228\u001B[0m \u001B[38;5;28;01massert\u001B[39;00m \u001B[38;5;28mself\u001B[39m\u001B[38;5;241m.\u001B[39mhandles \u001B[38;5;129;01mis\u001B[39;00m \u001B[38;5;129;01mnot\u001B[39;00m \u001B[38;5;28;01mNone\u001B[39;00m\n\u001B[1;32m   1229\u001B[0m f \u001B[38;5;241m=\u001B[39m \u001B[38;5;28mself\u001B[39m\u001B[38;5;241m.\u001B[39mhandles\u001B[38;5;241m.\u001B[39mhandle\n",
      "File \u001B[0;32m~/opt/anaconda3/envs/bdp/lib/python3.9/site-packages/pandas/io/common.py:786\u001B[0m, in \u001B[0;36mget_handle\u001B[0;34m(path_or_buf, mode, encoding, compression, memory_map, is_text, errors, storage_options)\u001B[0m\n\u001B[1;32m    781\u001B[0m \u001B[38;5;28;01melif\u001B[39;00m \u001B[38;5;28misinstance\u001B[39m(handle, \u001B[38;5;28mstr\u001B[39m):\n\u001B[1;32m    782\u001B[0m     \u001B[38;5;66;03m# Check whether the filename is to be opened in binary mode.\u001B[39;00m\n\u001B[1;32m    783\u001B[0m     \u001B[38;5;66;03m# Binary mode does not support 'encoding' and 'newline'.\u001B[39;00m\n\u001B[1;32m    784\u001B[0m     \u001B[38;5;28;01mif\u001B[39;00m ioargs\u001B[38;5;241m.\u001B[39mencoding \u001B[38;5;129;01mand\u001B[39;00m \u001B[38;5;124m\"\u001B[39m\u001B[38;5;124mb\u001B[39m\u001B[38;5;124m\"\u001B[39m \u001B[38;5;129;01mnot\u001B[39;00m \u001B[38;5;129;01min\u001B[39;00m ioargs\u001B[38;5;241m.\u001B[39mmode:\n\u001B[1;32m    785\u001B[0m         \u001B[38;5;66;03m# Encoding\u001B[39;00m\n\u001B[0;32m--> 786\u001B[0m         handle \u001B[38;5;241m=\u001B[39m \u001B[38;5;28;43mopen\u001B[39;49m\u001B[43m(\u001B[49m\n\u001B[1;32m    787\u001B[0m \u001B[43m            \u001B[49m\u001B[43mhandle\u001B[49m\u001B[43m,\u001B[49m\n\u001B[1;32m    788\u001B[0m \u001B[43m            \u001B[49m\u001B[43mioargs\u001B[49m\u001B[38;5;241;43m.\u001B[39;49m\u001B[43mmode\u001B[49m\u001B[43m,\u001B[49m\n\u001B[1;32m    789\u001B[0m \u001B[43m            \u001B[49m\u001B[43mencoding\u001B[49m\u001B[38;5;241;43m=\u001B[39;49m\u001B[43mioargs\u001B[49m\u001B[38;5;241;43m.\u001B[39;49m\u001B[43mencoding\u001B[49m\u001B[43m,\u001B[49m\n\u001B[1;32m    790\u001B[0m \u001B[43m            \u001B[49m\u001B[43merrors\u001B[49m\u001B[38;5;241;43m=\u001B[39;49m\u001B[43merrors\u001B[49m\u001B[43m,\u001B[49m\n\u001B[1;32m    791\u001B[0m \u001B[43m            \u001B[49m\u001B[43mnewline\u001B[49m\u001B[38;5;241;43m=\u001B[39;49m\u001B[38;5;124;43m\"\u001B[39;49m\u001B[38;5;124;43m\"\u001B[39;49m\u001B[43m,\u001B[49m\n\u001B[1;32m    792\u001B[0m \u001B[43m        \u001B[49m\u001B[43m)\u001B[49m\n\u001B[1;32m    793\u001B[0m     \u001B[38;5;28;01melse\u001B[39;00m:\n\u001B[1;32m    794\u001B[0m         \u001B[38;5;66;03m# Binary mode\u001B[39;00m\n\u001B[1;32m    795\u001B[0m         handle \u001B[38;5;241m=\u001B[39m \u001B[38;5;28mopen\u001B[39m(handle, ioargs\u001B[38;5;241m.\u001B[39mmode)\n",
      "\u001B[0;31mFileNotFoundError\u001B[0m: [Errno 2] No such file or directory: 'Data/neurons.csv'"
     ]
    }
   ],
   "source": [
    "neuron_df = pd.read_csv('Data/neurons.csv')\n",
    "connection_df = pd.read_csv('Data/connections.csv')"
   ],
   "metadata": {
    "collapsed": false
   }
  },
  {
   "cell_type": "code",
   "execution_count": 19,
   "outputs": [],
   "source": [
    "non_conns = ['NO_CONS']\n",
    "center_regions = ['NO', 'PB', 'EB', 'FB',   # Central Complex: Involved in multiple complex behaviors\n",
    "                  'SAD', 'PRW',             # Periesophageal Neuropils Center: Sensory (including gustatory) processing, motor control, and potentially circadian rhythm.\n",
    "                  'GNG',                    # controlling the mouthparts, feeding behavior and taste info\n",
    "                  'OCG',                    # Ocelli: contribute to light detection and circadian rhythm\n",
    "                  'UNASGD']                 # Unassigned: no known function\n",
    "left_right_regions = ['AME', 'LA', 'LO', 'LOP', 'ME',       # Optic lobe: Visual sensory region\n",
    "                      'BU', 'LAL', 'GA',                    # Lateral Complex: Integration of sensory information\n",
    "                      'LH',                                 # Lateral Horn: Olfactory sensory region\n",
    "                      'CAN', 'AMMC', 'FLA',                 # Periesophageal Neuropils: Gustatory sensory region, motor control\n",
    "                      'ICL', 'IB', 'ATL', 'CRE', 'SCL',     # Inferior Neuropils: Sensory integration, motor control\n",
    "                      'VES', 'GOR', 'SPS', 'IPS', 'EPA',    # Ventromedial Neuropils: Sensory integration, learning and memory\n",
    "                      'MB_PED', 'MB_VL', 'MB_ML', 'MB_CA',  # Mushroom Body: Olfactory learning and memory\n",
    "                      'AL',                                 # Antennal Lobe: Olfactory sensory region\n",
    "                      'SLP', 'SIP', 'SMP',                  # Superior Neuropils: Integration of multi-modality sensory information\n",
    "                      'AVLP', 'PVLP', 'WED', 'PLP', 'AOTU'] # Ventrolateral Neuropils: Sensory processing and cognitive functions"
   ],
   "metadata": {
    "collapsed": false
   }
  },
  {
   "cell_type": "code",
   "execution_count": 32,
   "outputs": [
    {
     "name": "stderr",
     "output_type": "stream",
     "text": [
      "/var/folders/gt/29lqqd_s6x94hjy8ys1rt98w0000gn/T/ipykernel_26830/603410581.py:8: FutureWarning: The default value of regex will change from True to False in a future version.\n",
      "  neuron_df['group'] = neuron_df['group'].str.replace(r'\\..*', '')\n"
     ]
    }
   ],
   "source": [
    "# Drop the columns that are not needed\n",
    "neuron_df = neuron_df.drop(columns=[\"nt_type_score\", \"da_avg\", \"ser_avg\", \"gaba_avg\", 'glut_avg', 'ach_avg', 'oct_avg'])\n",
    "\n",
    "# Sort the data by the group\n",
    "neuron_df = neuron_df.sort_values(by=['group'])\n",
    "\n",
    "# Batch edit the value of group column based on regex: delete the string after the first dot\n",
    "neuron_df['group'] = neuron_df['group'].str.replace(r'\\..*', '')\n",
    "\n",
    "# Rename the column name of connection_df pre_root_id to neuron_id\n",
    "neuron_df = neuron_df.rename(columns={'root_id': 'neuron_id'})\n",
    "connection_df = connection_df.rename(columns={'pre_root_id': 'neuron_id'})\n",
    "\n",
    "combine_df = pd.merge(connection_df, neuron_df, on='neuron_id', how='left')\n",
    "combine_df = combine_df.rename(columns={'group': 'pre_group'})\n",
    "combine_df = combine_df.rename(columns={'nt_type_x': 'syn_type'})\n",
    "combine_df = combine_df.rename(columns={'nt_type_y': 'nt_type'})"
   ],
   "metadata": {
    "collapsed": false
   }
  },
  {
   "cell_type": "code",
   "execution_count": 33,
   "outputs": [],
   "source": [
    "neuron_conn_df = pd.merge(neuron_df, connection_df, on='neuron_id', how='right')\n",
    "neuron_conn_df = neuron_conn_df.rename(columns={'group': 'pre_group'})\n",
    "neuron_conn_df = neuron_conn_df.rename(columns={'nt_type_y': 'syn_type'})\n",
    "neuron_conn_df = neuron_conn_df.rename(columns={'nt_type_x': 'nt_type'})"
   ],
   "metadata": {
    "collapsed": false
   }
  },
  {
   "cell_type": "code",
   "execution_count": 35,
   "outputs": [
    {
     "data": {
      "text/plain": "                 neuron_id group nt_type\n65780   720575940625030920    AL     SER\n103884  720575940633175196    AL     ACH\n3894    720575940606949042    AL     ACH\n27153   720575940616815005    AL     ACH\n54429   720575940622745834    AL     ACH\n...                    ...   ...     ...\n123110  720575940644252320   WED     ACH\n121883  720575940642627876   WED     ACH\n44333   720575940620862746   WED     ACH\n51063   720575940622135757   WED     ACH\n113913  720575940637559886   WED    GABA\n\n[127978 rows x 3 columns]",
      "text/html": "<div>\n<style scoped>\n    .dataframe tbody tr th:only-of-type {\n        vertical-align: middle;\n    }\n\n    .dataframe tbody tr th {\n        vertical-align: top;\n    }\n\n    .dataframe thead th {\n        text-align: right;\n    }\n</style>\n<table border=\"1\" class=\"dataframe\">\n  <thead>\n    <tr style=\"text-align: right;\">\n      <th></th>\n      <th>neuron_id</th>\n      <th>group</th>\n      <th>nt_type</th>\n    </tr>\n  </thead>\n  <tbody>\n    <tr>\n      <th>65780</th>\n      <td>720575940625030920</td>\n      <td>AL</td>\n      <td>SER</td>\n    </tr>\n    <tr>\n      <th>103884</th>\n      <td>720575940633175196</td>\n      <td>AL</td>\n      <td>ACH</td>\n    </tr>\n    <tr>\n      <th>3894</th>\n      <td>720575940606949042</td>\n      <td>AL</td>\n      <td>ACH</td>\n    </tr>\n    <tr>\n      <th>27153</th>\n      <td>720575940616815005</td>\n      <td>AL</td>\n      <td>ACH</td>\n    </tr>\n    <tr>\n      <th>54429</th>\n      <td>720575940622745834</td>\n      <td>AL</td>\n      <td>ACH</td>\n    </tr>\n    <tr>\n      <th>...</th>\n      <td>...</td>\n      <td>...</td>\n      <td>...</td>\n    </tr>\n    <tr>\n      <th>123110</th>\n      <td>720575940644252320</td>\n      <td>WED</td>\n      <td>ACH</td>\n    </tr>\n    <tr>\n      <th>121883</th>\n      <td>720575940642627876</td>\n      <td>WED</td>\n      <td>ACH</td>\n    </tr>\n    <tr>\n      <th>44333</th>\n      <td>720575940620862746</td>\n      <td>WED</td>\n      <td>ACH</td>\n    </tr>\n    <tr>\n      <th>51063</th>\n      <td>720575940622135757</td>\n      <td>WED</td>\n      <td>ACH</td>\n    </tr>\n    <tr>\n      <th>113913</th>\n      <td>720575940637559886</td>\n      <td>WED</td>\n      <td>GABA</td>\n    </tr>\n  </tbody>\n</table>\n<p>127978 rows × 3 columns</p>\n</div>"
     },
     "execution_count": 35,
     "metadata": {},
     "output_type": "execute_result"
    }
   ],
   "source": [
    "neuron_df"
   ],
   "metadata": {
    "collapsed": false
   }
  },
  {
   "cell_type": "code",
   "execution_count": 34,
   "outputs": [
    {
     "data": {
      "text/plain": "Empty DataFrame\nColumns: [neuron_id, pre_group, nt_type, post_root_id, neuropil, syn_count, syn_type]\nIndex: []",
      "text/html": "<div>\n<style scoped>\n    .dataframe tbody tr th:only-of-type {\n        vertical-align: middle;\n    }\n\n    .dataframe tbody tr th {\n        vertical-align: top;\n    }\n\n    .dataframe thead th {\n        text-align: right;\n    }\n</style>\n<table border=\"1\" class=\"dataframe\">\n  <thead>\n    <tr style=\"text-align: right;\">\n      <th></th>\n      <th>neuron_id</th>\n      <th>pre_group</th>\n      <th>nt_type</th>\n      <th>post_root_id</th>\n      <th>neuropil</th>\n      <th>syn_count</th>\n      <th>syn_type</th>\n    </tr>\n  </thead>\n  <tbody>\n  </tbody>\n</table>\n</div>"
     },
     "execution_count": 34,
     "metadata": {},
     "output_type": "execute_result"
    }
   ],
   "source": [
    "region_conn_info = neuron_conn_df.loc[neuron_conn_df['pre_group'] == 'NO_CONS']\n",
    "region_conn_info = region_conn_info.sort_values(by=['neuron_id'])\n",
    "region_neural_info = region_conn_info.drop_duplicates(subset=['neuron_id'])\n",
    "region_neural_info\n",
    "# 720575940613437206\n",
    "# neuron_count = region_conn_info['neuron_id'].value_counts()\n",
    "# neuron_count = neuron_count.sort_index()\n",
    "# neuron_count_array = neuron_count.to_numpy()\n",
    "# l = []\n",
    "# for i in range(len(neuron_count)):\n",
    "#     if neuron_count_array[i] == 1 and pd.isnull(region_conn_info.loc[region_conn_info['neuron_id']==neuron_count.index[i]].syn_count).item():\n",
    "#         neuron_count_array[i] = 0\n",
    "\n",
    "# neuron_count_array"
   ],
   "metadata": {
    "collapsed": false
   }
  },
  {
   "cell_type": "code",
   "execution_count": 123,
   "outputs": [],
   "source": [
    "Neurons_dict = {}\n",
    "Conn_dict = {}\n",
    "\n",
    "for region in center_regions + left_right_regions + non_conns:\n",
    "    region_info = neuron_df.loc[neuron_df['group'] == region]\n",
    "    region_info = region_info.sort_values(by=['neuron_id'])\n",
    "    # delete all the duplicate neuron_id row\n",
    "    region_neural_info = region_info.drop_duplicates(subset=['neuron_id'])\n",
    "    # Neuron Information\n",
    "    Neurons_dict[region] = {}\n",
    "    Neurons_dict[region]['neuron_number'] = len(region_neural_info['neuron_id'])\n",
    "    Neurons_dict[region]['neuron_ids'] = region_neural_info['neuron_id'].to_numpy()\n",
    "    Neurons_dict[region]['nt_type'] = region_neural_info['nt_type'].to_numpy()\n",
    "\n",
    "    # Connection Information\n",
    "    region_conn_info = neuron_conn_df.loc[neuron_conn_df['pre_group'] == region]\n",
    "    region_conn_info = region_conn_info.sort_values(by=['neuron_id'])\n",
    "    Conn_dict[region] = {}\n",
    "    Conn_dict[region]['conn_number'] = len(region_conn_info['neuron_id'])\n",
    "    Conn_dict[region]['pre_ids'] = region_conn_info['neuron_id'].to_numpy()\n",
    "    Conn_dict[region]['post_ids'] = region_conn_info['post_root_id'].to_numpy()\n",
    "    neuron_count = region_conn_info['neuron_id'].value_counts()\n",
    "    neuron_count = neuron_count.sort_index()\n",
    "    indptr = neuron_count.to_numpy()\n",
    "    Conn_dict[region]['indptr'] = indptr\n",
    "    Conn_dict[region]['syn_count'] = region_conn_info['syn_count'].to_numpy()\n",
    "    region_conn_info['nt_type'] = region_conn_info['nt_type'].fillna(region_conn_info['syn_type'])\n",
    "    Conn_dict[region]['syn_type'] = region_conn_info['nt_type'].to_numpy()\n",
    "\n",
    "import pickle\n",
    "with open('Data/neuron.pkl', 'wb') as f:\n",
    "\tpickle.dump(Neurons_dict, f)\n",
    "\n",
    "with open('Data/conn.pkl', 'wb') as f:\n",
    "    pickle.dump(Conn_dict, f)"
   ],
   "metadata": {
    "collapsed": false
   }
  },
  {
   "cell_type": "code",
   "execution_count": 105,
   "outputs": [
    {
     "name": "stdout",
     "output_type": "stream",
     "text": [
      "121327\n",
      "127978\n"
     ]
    }
   ],
   "source": [
    "sum = 0\n",
    "for region in center_regions + left_right_regions:\n",
    "    sum += Neurons_dict[region]['neuron_number']\n",
    "\n",
    "print(sum)\n",
    "print(len(neuron_df['neuron_id']))"
   ],
   "metadata": {
    "collapsed": false
   }
  },
  {
   "cell_type": "code",
   "execution_count": 120,
   "outputs": [
    {
     "data": {
      "text/plain": "                neuron_id group nt_type\n23586  720575940615746677    BU    GABA\n96451  720575940631242002    BU     NaN",
      "text/html": "<div>\n<style scoped>\n    .dataframe tbody tr th:only-of-type {\n        vertical-align: middle;\n    }\n\n    .dataframe tbody tr th {\n        vertical-align: top;\n    }\n\n    .dataframe thead th {\n        text-align: right;\n    }\n</style>\n<table border=\"1\" class=\"dataframe\">\n  <thead>\n    <tr style=\"text-align: right;\">\n      <th></th>\n      <th>neuron_id</th>\n      <th>group</th>\n      <th>nt_type</th>\n    </tr>\n  </thead>\n  <tbody>\n    <tr>\n      <th>23586</th>\n      <td>720575940615746677</td>\n      <td>BU</td>\n      <td>GABA</td>\n    </tr>\n    <tr>\n      <th>96451</th>\n      <td>720575940631242002</td>\n      <td>BU</td>\n      <td>NaN</td>\n    </tr>\n  </tbody>\n</table>\n</div>"
     },
     "execution_count": 120,
     "metadata": {},
     "output_type": "execute_result"
    }
   ],
   "source": [
    "region_info = neuron_df.loc[neuron_df['group'] == 'BU']\n",
    "region_info = region_info.sort_values(by=['neuron_id'])\n",
    "region_neural_info = region_info.drop_duplicates(subset=['neuron_id'])\n",
    "region_info"
   ],
   "metadata": {
    "collapsed": false
   }
  },
  {
   "cell_type": "code",
   "execution_count": 115,
   "outputs": [
    {
     "data": {
      "text/plain": "                 neuron_id    group nt_type\n1802    720575940605364448  NO_CONS     NaN\n11663   720575940611759569  NO_CONS     NaN\n10049   720575940611090478  NO_CONS     NaN\n127464  720575940657606529  NO_CONS     ACH\n125357  720575940647019043  NO_CONS     NaN\n...                    ...      ...     ...\n110443  720575940635837786  NO_CONS     SER\n20971   720575940614884754  NO_CONS     NaN\n20927   720575940614865002  NO_CONS     NaN\n21197   720575940614957115  NO_CONS     NaN\n18994   720575940614322024  NO_CONS     NaN\n\n[3087 rows x 3 columns]",
      "text/html": "<div>\n<style scoped>\n    .dataframe tbody tr th:only-of-type {\n        vertical-align: middle;\n    }\n\n    .dataframe tbody tr th {\n        vertical-align: top;\n    }\n\n    .dataframe thead th {\n        text-align: right;\n    }\n</style>\n<table border=\"1\" class=\"dataframe\">\n  <thead>\n    <tr style=\"text-align: right;\">\n      <th></th>\n      <th>neuron_id</th>\n      <th>group</th>\n      <th>nt_type</th>\n    </tr>\n  </thead>\n  <tbody>\n    <tr>\n      <th>1802</th>\n      <td>720575940605364448</td>\n      <td>NO_CONS</td>\n      <td>NaN</td>\n    </tr>\n    <tr>\n      <th>11663</th>\n      <td>720575940611759569</td>\n      <td>NO_CONS</td>\n      <td>NaN</td>\n    </tr>\n    <tr>\n      <th>10049</th>\n      <td>720575940611090478</td>\n      <td>NO_CONS</td>\n      <td>NaN</td>\n    </tr>\n    <tr>\n      <th>127464</th>\n      <td>720575940657606529</td>\n      <td>NO_CONS</td>\n      <td>ACH</td>\n    </tr>\n    <tr>\n      <th>125357</th>\n      <td>720575940647019043</td>\n      <td>NO_CONS</td>\n      <td>NaN</td>\n    </tr>\n    <tr>\n      <th>...</th>\n      <td>...</td>\n      <td>...</td>\n      <td>...</td>\n    </tr>\n    <tr>\n      <th>110443</th>\n      <td>720575940635837786</td>\n      <td>NO_CONS</td>\n      <td>SER</td>\n    </tr>\n    <tr>\n      <th>20971</th>\n      <td>720575940614884754</td>\n      <td>NO_CONS</td>\n      <td>NaN</td>\n    </tr>\n    <tr>\n      <th>20927</th>\n      <td>720575940614865002</td>\n      <td>NO_CONS</td>\n      <td>NaN</td>\n    </tr>\n    <tr>\n      <th>21197</th>\n      <td>720575940614957115</td>\n      <td>NO_CONS</td>\n      <td>NaN</td>\n    </tr>\n    <tr>\n      <th>18994</th>\n      <td>720575940614322024</td>\n      <td>NO_CONS</td>\n      <td>NaN</td>\n    </tr>\n  </tbody>\n</table>\n<p>3087 rows × 3 columns</p>\n</div>"
     },
     "execution_count": 115,
     "metadata": {},
     "output_type": "execute_result"
    }
   ],
   "source": [
    "region_neural_info = neuron_df.loc[neuron_df['group'] == 'NO_CONS']\n",
    "region_neural_info"
   ],
   "metadata": {
    "collapsed": false
   }
  },
  {
   "cell_type": "code",
   "execution_count": 128,
   "outputs": [
    {
     "data": {
      "text/plain": "array([nan, 'SER', 'ACH', 'GLUT', 'GABA'], dtype=object)"
     },
     "execution_count": 128,
     "metadata": {},
     "output_type": "execute_result"
    }
   ],
   "source": [
    "region_conn_info = neuron_conn_df.loc[neuron_conn_df['pre_group'] == 'OCG']\n",
    "region_conn_info = region_conn_info.sort_values(by=['neuron_id'])\n",
    "# region_neural_info = region_conn_info.drop_duplicates(subset=['neuron_id'])\n",
    "region_conn_info['nt_type'].unique()"
   ],
   "metadata": {
    "collapsed": false
   }
  },
  {
   "cell_type": "code",
   "execution_count": 90,
   "outputs": [
    {
     "name": "stdout",
     "output_type": "stream",
     "text": [
      "369342\n"
     ]
    },
    {
     "data": {
      "text/plain": "array([13, 10, 14, ...,  1, 41, 26])"
     },
     "execution_count": 90,
     "metadata": {},
     "output_type": "execute_result"
    }
   ],
   "source": [
    "print(len(region_info['neuron_id']))\n",
    "neuron_count = region_info['neuron_id'].value_counts()\n",
    "neuron_count = neuron_count.sort_index()\n",
    "neuron_count.to_numpy()"
   ],
   "metadata": {
    "collapsed": false
   }
  },
  {
   "cell_type": "code",
   "execution_count": 91,
   "outputs": [
    {
     "data": {
      "text/plain": "0          720575940608552405\n12         720575940640902389\n11         720575940635713375\n10         720575940634848875\n9          720575940630768215\n                  ...        \n3794553    720575940607969289\n3794552    720575940606156832\n3794576    720575940631129362\n3794563    720575940621647948\n3794577    720575940632227155\nName: post_root_id, Length: 369342, dtype: int64"
     },
     "execution_count": 91,
     "metadata": {},
     "output_type": "execute_result"
    }
   ],
   "source": [
    "region_info['post_root_id']"
   ],
   "metadata": {
    "collapsed": false
   }
  },
  {
   "cell_type": "code",
   "execution_count": 93,
   "outputs": [
    {
     "data": {
      "text/plain": "0           5\n12         16\n11          5\n10         17\n9           5\n           ..\n3794553    12\n3794552    43\n3794576    12\n3794563     2\n3794577     8\nName: syn_count, Length: 369342, dtype: int64"
     },
     "execution_count": 93,
     "metadata": {},
     "output_type": "execute_result"
    }
   ],
   "source": [
    "region_info['syn_count']"
   ],
   "metadata": {
    "collapsed": false
   }
  },
  {
   "cell_type": "code",
   "execution_count": 94,
   "outputs": [
    {
     "data": {
      "text/plain": "                  neuron_id pre_group nt_type        post_root_id neuropil  \\\n0        720575940596125868        LO     ACH  720575940608552405    LOP_R   \n12       720575940596125868        LO     ACH  720575940640902389    LOP_R   \n11       720575940596125868        LO     ACH  720575940635713375    LOP_R   \n10       720575940596125868        LO     ACH  720575940634848875    LOP_R   \n9        720575940596125868        LO     ACH  720575940630768215    LOP_R   \n...                     ...       ...     ...                 ...      ...   \n3794553  720575940660863105        LO    GLUT  720575940607969289     LO_L   \n3794552  720575940660863105        LO    GLUT  720575940606156832     LO_L   \n3794576  720575940660863105        LO    GLUT  720575940631129362   AOTU_L   \n3794563  720575940660863105        LO    GLUT  720575940621647948    SLP_L   \n3794577  720575940660863105        LO    GLUT  720575940632227155     LO_L   \n\n         syn_count syn_type  \n0                5      ACH  \n12              16      ACH  \n11               5      ACH  \n10              17      ACH  \n9                5      ACH  \n...            ...      ...  \n3794553         12     GLUT  \n3794552         43     GLUT  \n3794576         12     GLUT  \n3794563          2     GLUT  \n3794577          8     GLUT  \n\n[369342 rows x 7 columns]",
      "text/html": "<div>\n<style scoped>\n    .dataframe tbody tr th:only-of-type {\n        vertical-align: middle;\n    }\n\n    .dataframe tbody tr th {\n        vertical-align: top;\n    }\n\n    .dataframe thead th {\n        text-align: right;\n    }\n</style>\n<table border=\"1\" class=\"dataframe\">\n  <thead>\n    <tr style=\"text-align: right;\">\n      <th></th>\n      <th>neuron_id</th>\n      <th>pre_group</th>\n      <th>nt_type</th>\n      <th>post_root_id</th>\n      <th>neuropil</th>\n      <th>syn_count</th>\n      <th>syn_type</th>\n    </tr>\n  </thead>\n  <tbody>\n    <tr>\n      <th>0</th>\n      <td>720575940596125868</td>\n      <td>LO</td>\n      <td>ACH</td>\n      <td>720575940608552405</td>\n      <td>LOP_R</td>\n      <td>5</td>\n      <td>ACH</td>\n    </tr>\n    <tr>\n      <th>12</th>\n      <td>720575940596125868</td>\n      <td>LO</td>\n      <td>ACH</td>\n      <td>720575940640902389</td>\n      <td>LOP_R</td>\n      <td>16</td>\n      <td>ACH</td>\n    </tr>\n    <tr>\n      <th>11</th>\n      <td>720575940596125868</td>\n      <td>LO</td>\n      <td>ACH</td>\n      <td>720575940635713375</td>\n      <td>LOP_R</td>\n      <td>5</td>\n      <td>ACH</td>\n    </tr>\n    <tr>\n      <th>10</th>\n      <td>720575940596125868</td>\n      <td>LO</td>\n      <td>ACH</td>\n      <td>720575940634848875</td>\n      <td>LOP_R</td>\n      <td>17</td>\n      <td>ACH</td>\n    </tr>\n    <tr>\n      <th>9</th>\n      <td>720575940596125868</td>\n      <td>LO</td>\n      <td>ACH</td>\n      <td>720575940630768215</td>\n      <td>LOP_R</td>\n      <td>5</td>\n      <td>ACH</td>\n    </tr>\n    <tr>\n      <th>...</th>\n      <td>...</td>\n      <td>...</td>\n      <td>...</td>\n      <td>...</td>\n      <td>...</td>\n      <td>...</td>\n      <td>...</td>\n    </tr>\n    <tr>\n      <th>3794553</th>\n      <td>720575940660863105</td>\n      <td>LO</td>\n      <td>GLUT</td>\n      <td>720575940607969289</td>\n      <td>LO_L</td>\n      <td>12</td>\n      <td>GLUT</td>\n    </tr>\n    <tr>\n      <th>3794552</th>\n      <td>720575940660863105</td>\n      <td>LO</td>\n      <td>GLUT</td>\n      <td>720575940606156832</td>\n      <td>LO_L</td>\n      <td>43</td>\n      <td>GLUT</td>\n    </tr>\n    <tr>\n      <th>3794576</th>\n      <td>720575940660863105</td>\n      <td>LO</td>\n      <td>GLUT</td>\n      <td>720575940631129362</td>\n      <td>AOTU_L</td>\n      <td>12</td>\n      <td>GLUT</td>\n    </tr>\n    <tr>\n      <th>3794563</th>\n      <td>720575940660863105</td>\n      <td>LO</td>\n      <td>GLUT</td>\n      <td>720575940621647948</td>\n      <td>SLP_L</td>\n      <td>2</td>\n      <td>GLUT</td>\n    </tr>\n    <tr>\n      <th>3794577</th>\n      <td>720575940660863105</td>\n      <td>LO</td>\n      <td>GLUT</td>\n      <td>720575940632227155</td>\n      <td>LO_L</td>\n      <td>8</td>\n      <td>GLUT</td>\n    </tr>\n  </tbody>\n</table>\n<p>369342 rows × 7 columns</p>\n</div>"
     },
     "execution_count": 94,
     "metadata": {},
     "output_type": "execute_result"
    }
   ],
   "source": [
    "region_info"
   ],
   "metadata": {
    "collapsed": false
   }
  }
 ],
 "metadata": {
  "kernelspec": {
   "display_name": "Python 3",
   "language": "python",
   "name": "python3"
  },
  "language_info": {
   "codemirror_mode": {
    "name": "ipython",
    "version": 2
   },
   "file_extension": ".py",
   "mimetype": "text/x-python",
   "name": "python",
   "nbconvert_exporter": "python",
   "pygments_lexer": "ipython2",
   "version": "2.7.6"
  }
 },
 "nbformat": 4,
 "nbformat_minor": 0
}
